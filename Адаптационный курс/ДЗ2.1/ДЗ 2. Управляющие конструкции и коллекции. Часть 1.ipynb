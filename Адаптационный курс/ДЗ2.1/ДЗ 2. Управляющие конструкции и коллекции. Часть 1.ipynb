{
 "cells": [
  {
   "cell_type": "code",
   "execution_count": 3,
   "id": "988bb1ed",
   "metadata": {},
   "outputs": [
    {
     "name": "stdout",
     "output_type": "stream",
     "text": [
      "Слово: test\n",
      "es\n"
     ]
    }
   ],
   "source": [
    "#Задание 1\n",
    "#Дана переменная, в которой хранится слово из латинских букв. \n",
    "#Напишите код, который выводит на экран:\n",
    "# - среднюю букву, если число букв в слове нечётное;\n",
    "# - две средних буквы, если число букв чётное.\n",
    "\n",
    "word = input('Слово: ')\n",
    "middle = len(word) // 2\n",
    "if len(word) % 2 == 1:\n",
    "    middle_letters = word[middle]  \n",
    "else:\n",
    "    middle_letters = word[middle-1:middle+1]\n",
    "print(middle_letters)"
   ]
  },
  {
   "cell_type": "code",
   "execution_count": 4,
   "id": "66c64c64",
   "metadata": {},
   "outputs": [
    {
     "name": "stdout",
     "output_type": "stream",
     "text": [
      "Слово: testing\n",
      "t\n"
     ]
    }
   ],
   "source": [
    "word = input('Слово: ')\n",
    "middle = len(word) // 2\n",
    "if len(word) % 2 == 1:\n",
    "    middle_letters = word[middle]  \n",
    "else:\n",
    "    middle_letters = word[middle-1:middle+1]\n",
    "print(middle_letters)"
   ]
  },
  {
   "cell_type": "code",
   "execution_count": 1,
   "id": "34834b5d",
   "metadata": {},
   "outputs": [
    {
     "name": "stdout",
     "output_type": "stream",
     "text": [
      "Boys: Peter, Alex, John, Arthur, Richard\n",
      "Girls: Kate, Liza, Kira, Emma, Trisha\n",
      "Идеальные пары:\n",
      "Alex и Emma\n",
      "Arthur и Kate\n",
      "John и Kira\n",
      "Peter и Liza\n",
      "Richard и Trisha\n"
     ]
    }
   ],
   "source": [
    "#Задание 2\n",
    "#Вы делаете MVP (минимально жизнеспособный продукт) dating-сервиса.\n",
    "#У вас есть список юношей и девушек.\n",
    "#Выдвигаем гипотезу: лучшие рекомендации получатся, если просто отсортировать\n",
    "#имена по алфавиту и познакомить людей с одинаковыми индексами после сортировки. \n",
    "#Но вы не будете никого знакомить, если кто-то может остаться без пары.\n",
    "\n",
    "boys = input('Boys: ').split(', ')\n",
    "girls = input('Girls: ').split(', ')\n",
    "\n",
    "if len(boys) != len(girls):\n",
    "    print(\"Внимание, кто-то может остаться без пары!\")\n",
    "else:\n",
    "    print(\"Идеальные пары:\")\n",
    "    for i in range(len(sorted(boys))):\n",
    "        print(f\"{(sorted(boys))[i]} и {(sorted(girls))[i]}\")"
   ]
  },
  {
   "cell_type": "code",
   "execution_count": 2,
   "id": "1d2b0bd7",
   "metadata": {},
   "outputs": [
    {
     "name": "stdout",
     "output_type": "stream",
     "text": [
      "Boys: Peter, Alex, John, Arthur, Richard, Michael\n",
      "Girls: Kate, Liza, Kira, Emma, Trisha\n",
      "Внимание, кто-то может остаться без пары!\n"
     ]
    }
   ],
   "source": [
    "boys = input('Boys: ').split(', ')\n",
    "girls = input('Girls: ').split(', ')\n",
    "\n",
    "if len(boys) != len(girls):\n",
    "    print(\"Внимание, кто-то может остаться без пары!\")\n",
    "else:\n",
    "    print(\"Идеальные пары:\")\n",
    "    for i in range(len(sorted(boys))):\n",
    "        print(f\"{(sorted(boys))[i]} и {(sorted(girls))[i]}\")"
   ]
  },
  {
   "cell_type": "code",
   "execution_count": null,
   "id": "da5c160a",
   "metadata": {},
   "outputs": [],
   "source": []
  }
 ],
 "metadata": {
  "kernelspec": {
   "display_name": "Python 3 (ipykernel)",
   "language": "python",
   "name": "python3"
  },
  "language_info": {
   "codemirror_mode": {
    "name": "ipython",
    "version": 3
   },
   "file_extension": ".py",
   "mimetype": "text/x-python",
   "name": "python",
   "nbconvert_exporter": "python",
   "pygments_lexer": "ipython3",
   "version": "3.10.9"
  }
 },
 "nbformat": 4,
 "nbformat_minor": 5
}
