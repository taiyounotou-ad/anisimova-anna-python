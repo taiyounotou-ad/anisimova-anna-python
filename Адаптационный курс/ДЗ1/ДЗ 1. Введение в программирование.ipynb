{
 "cells": [
  {
   "cell_type": "code",
   "execution_count": 7,
   "id": "426cb27e",
   "metadata": {},
   "outputs": [
    {
     "name": "stdout",
     "output_type": "stream",
     "text": [
      "Год: 2020\n",
      "Високосный год\n"
     ]
    }
   ],
   "source": [
    "#Задание 1\n",
    "#Дана переменная, в которой хранится четырёхзначное число (год). \n",
    "#Необходимо написать программу, которая выведет, является этот год високосным или обычным.\n",
    "\n",
    "year = int(input('Год: '))\n",
    "if (year % 4 == 0 and year % 100 != 0) or (year % 400 == 0):\n",
    "    print('Високосный год')\n",
    "else:\n",
    "    print('Обычный год')"
   ]
  },
  {
   "cell_type": "code",
   "execution_count": 8,
   "id": "e4959922",
   "metadata": {},
   "outputs": [
    {
     "name": "stdout",
     "output_type": "stream",
     "text": [
      "Год: 2019\n",
      "Обычный год\n"
     ]
    }
   ],
   "source": [
    "year = int(input('Год: '))\n",
    "if (year % 4 == 0 and year % 100 != 0) or (year % 400 == 0):\n",
    "    print('Високосный год')\n",
    "else:\n",
    "    print('Обычный год')"
   ]
  },
  {
   "cell_type": "code",
   "execution_count": 9,
   "id": "51ea024d",
   "metadata": {},
   "outputs": [
    {
     "name": "stdout",
     "output_type": "stream",
     "text": [
      "Номер: 123456\n",
      "Несчастливый билет\n"
     ]
    }
   ],
   "source": [
    "#Задание2\n",
    "#Дана переменная, в которой хранится шестизначное число (номер проездного билета).\n",
    "#Напишите программу, которая будет определять, является ли этот билет счастливым.\n",
    "#Билет считается счастливым, если сумма первых трёх цифр совпадает с суммой последних трёх цифр номера.\n",
    "\n",
    "number = int(input('Номер: '))\n",
    "if number//100000 + (number//10000) % 10 + (number//1000) % 10 == (number//100) % 10 + (number//10) % 10 + number % 10:\n",
    "    print('Счастливый билет')\n",
    "else:\n",
    "    print('Несчастливый билет')"
   ]
  },
  {
   "cell_type": "code",
   "execution_count": 10,
   "id": "e8884d00",
   "metadata": {},
   "outputs": [
    {
     "name": "stdout",
     "output_type": "stream",
     "text": [
      "Номер: 123321\n",
      "Счастливый билет\n"
     ]
    }
   ],
   "source": [
    "number = int(input('Номер: '))\n",
    "if number//100000 + (number//10000) % 10 + (number//1000) % 10 == (number//100) % 10 + (number//10) % 10 + number % 10:\n",
    "    print('Счастливый билет')\n",
    "else:\n",
    "    print('Несчастливый билет')"
   ]
  },
  {
   "cell_type": "code",
   "execution_count": null,
   "id": "03884e98",
   "metadata": {},
   "outputs": [],
   "source": []
  }
 ],
 "metadata": {
  "kernelspec": {
   "display_name": "Python 3 (ipykernel)",
   "language": "python",
   "name": "python3"
  },
  "language_info": {
   "codemirror_mode": {
    "name": "ipython",
    "version": 3
   },
   "file_extension": ".py",
   "mimetype": "text/x-python",
   "name": "python",
   "nbconvert_exporter": "python",
   "pygments_lexer": "ipython3",
   "version": "3.10.9"
  }
 },
 "nbformat": 4,
 "nbformat_minor": 5
}
