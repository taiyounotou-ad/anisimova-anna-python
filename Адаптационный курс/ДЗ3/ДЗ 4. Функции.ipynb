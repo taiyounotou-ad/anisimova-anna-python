{
 "cells": [
  {
   "cell_type": "code",
   "execution_count": 1,
   "id": "e0ef266b",
   "metadata": {},
   "outputs": [],
   "source": [
    "documents = [\n",
    "    {'type': 'passport', 'number': '2207 876234', 'name': 'Василий Гупкин'},\n",
    "    {'type': 'invoice', 'number': '11-2', 'name': 'Геннадий Покемонов'},\n",
    "    {'type': 'insurance', 'number': '10006', 'name': 'Аристарх Павлов'}\n",
    "]\n",
    "\n",
    "directories = {\n",
    "    '1': ['2207 876234', '11-2'],\n",
    "    '2': ['10006'],\n",
    "    '3': []\n",
    "}\n",
    "\n",
    "def find_doc_owner(doc_number):\n",
    "    for doc in documents:\n",
    "        if doc['number'] == doc_number:\n",
    "            return doc['name']\n",
    "    return None\n",
    "\n",
    "def find_doc_owner_command():\n",
    "    doc_number = input('Введите номер документа: ')\n",
    "    owner = find_doc_owner(doc_number)\n",
    "    if owner:\n",
    "        print(f'Владелец документа: {owner}')\n",
    "    else:\n",
    "        print('Владелец документа: владелец не найден')\n",
    "\n",
    "def find_doc_shelf(doc_number):\n",
    "    for shelf, docs in directories.items():\n",
    "        if doc_number in docs:\n",
    "            return shelf\n",
    "    return None\n",
    "\n",
    "def find_doc_shelf_command():\n",
    "    doc_number = input('Введите номер документа: ')\n",
    "    shelf = find_doc_shelf(doc_number)\n",
    "    if shelf:\n",
    "        print(f'Документ хранится на полке: {shelf}')\n",
    "    else:\n",
    "        print('Документ не найден')\n",
    "\n",
    "def command_processor(): \n",
    "    while True:\n",
    "        command = input('Введите команду: ')\n",
    "        if command == 'q':\n",
    "            break\n",
    "        elif command == 'p':\n",
    "            find_doc_owner_command()\n",
    "        elif command == 's':\n",
    "            find_doc_shelf_command()           \n"
   ]
  },
  {
   "cell_type": "code",
   "execution_count": 2,
   "id": "b82cbf95",
   "metadata": {},
   "outputs": [
    {
     "name": "stdout",
     "output_type": "stream",
     "text": [
      "Введите команду: p\n",
      "Введите номер документа: 10006\n",
      "Владелец документа: Аристарх Павлов\n",
      "Введите команду: p\n",
      "Введите номер документа: 1001\n",
      "Владелец документа: владелец не найден\n",
      "Введите команду: q\n"
     ]
    }
   ],
   "source": [
    "#Задание 1\n",
    "#Пользователь по команде «p» может узнать владельца документа по его номеру.\n",
    "\n",
    "command_processor()"
   ]
  },
  {
   "cell_type": "code",
   "execution_count": 3,
   "id": "872d3b09",
   "metadata": {},
   "outputs": [
    {
     "name": "stdout",
     "output_type": "stream",
     "text": [
      "Введите команду: s\n",
      "Введите номер документа: 10006\n",
      "Документ хранится на полке: 2\n",
      "Введите команду: s\n",
      "Введите номер документа: 1001\n",
      "Документ не найден\n",
      "Введите команду: q\n"
     ]
    }
   ],
   "source": [
    "#Задание 2\n",
    "#Секретарь по команде «s» может по номеру документа узнать, \n",
    "#на какой полке документ хранится.\n",
    "\n",
    "command_processor()"
   ]
  },
  {
   "cell_type": "code",
   "execution_count": null,
   "id": "c2135f38",
   "metadata": {},
   "outputs": [],
   "source": []
  }
 ],
 "metadata": {
  "kernelspec": {
   "display_name": "Python 3 (ipykernel)",
   "language": "python",
   "name": "python3"
  },
  "language_info": {
   "codemirror_mode": {
    "name": "ipython",
    "version": 3
   },
   "file_extension": ".py",
   "mimetype": "text/x-python",
   "name": "python",
   "nbconvert_exporter": "python",
   "pygments_lexer": "ipython3",
   "version": "3.10.9"
  }
 },
 "nbformat": 4,
 "nbformat_minor": 5
}
