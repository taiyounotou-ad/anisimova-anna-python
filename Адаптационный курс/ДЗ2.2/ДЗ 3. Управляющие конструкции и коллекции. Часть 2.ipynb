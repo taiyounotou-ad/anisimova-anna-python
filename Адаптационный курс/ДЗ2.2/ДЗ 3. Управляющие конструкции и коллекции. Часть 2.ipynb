{
 "cells": [
  {
   "cell_type": "code",
   "execution_count": 2,
   "id": "ec67a3b1",
   "metadata": {},
   "outputs": [
    {
     "name": "stdout",
     "output_type": "stream",
     "text": [
      "{98, 35, 15, 213, 54, 119}\n"
     ]
    }
   ],
   "source": [
    "#Задание 1\n",
    "#Дана переменная, в которой хранится словарь, \n",
    "#содержащий геометки для каждого пользователя. \n",
    "#Вам нужно написать программу, которая выведет на экран множество \n",
    "#уникальных геометок всех пользователей.\n",
    "\n",
    "ids = {'user1': [213, 213, 213, 15, 213],\n",
    "       'user2': [54, 54, 119, 119, 119],\n",
    "       'user3': [213, 98, 98, 35]}\n",
    "\n",
    "unique_user_geo_tags = set()\n",
    "for user_geo_tags in ids.values():\n",
    "    unique_user_geo_tags.update(user_geo_tags)\n",
    "print(unique_user_geo_tags)"
   ]
  },
  {
   "cell_type": "code",
   "execution_count": 7,
   "id": "718bd2ad",
   "metadata": {},
   "outputs": [
    {
     "name": "stdout",
     "output_type": "stream",
     "text": [
      "Поисковых запросов, содержащих 2 слов(а): 42.86%\n",
      "Поисковых запросов, содержащих 3 слов(а): 57.14%\n"
     ]
    }
   ],
   "source": [
    "#Задание 2\n",
    "#Дана переменная, в которой хранится список поисковых запросов пользователя. \n",
    "#Вам нужно написать программу, которая выведет на экран распределение\n",
    "#количества слов в запросах в требуемом виде.\n",
    "\n",
    "queries = [\n",
    "    'смотреть сериалы онлайн',\n",
    "    'новости спорта',\n",
    "    'афиша кино',\n",
    "    'курс доллара',\n",
    "    'сериалы этим летом',\n",
    "    'курс по питону',\n",
    "    'сериалы про спорт'\n",
    "]\n",
    "\n",
    "words_count = {}\n",
    "for query in queries:\n",
    "    words = query.split()\n",
    "    words_in_query = len(words)\n",
    "    words_count[words_in_query] = words_count.get(words_in_query, 0) + 1\n",
    "\n",
    "queries_number = len(queries)\n",
    "for length, count in sorted(words_count.items()):\n",
    "    percentage = (count / queries_number) * 100\n",
    "    print(f'Поисковых запросов, содержащих {length} слов(а): {percentage:.2f}%')"
   ]
  },
  {
   "cell_type": "code",
   "execution_count": null,
   "id": "0ec6e470",
   "metadata": {},
   "outputs": [],
   "source": []
  }
 ],
 "metadata": {
  "kernelspec": {
   "display_name": "Python 3 (ipykernel)",
   "language": "python",
   "name": "python3"
  },
  "language_info": {
   "codemirror_mode": {
    "name": "ipython",
    "version": 3
   },
   "file_extension": ".py",
   "mimetype": "text/x-python",
   "name": "python",
   "nbconvert_exporter": "python",
   "pygments_lexer": "ipython3",
   "version": "3.10.9"
  }
 },
 "nbformat": 4,
 "nbformat_minor": 5
}
