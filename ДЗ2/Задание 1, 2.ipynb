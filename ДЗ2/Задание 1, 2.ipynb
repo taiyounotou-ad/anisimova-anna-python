{
 "cells": [
  {
   "cell_type": "code",
   "execution_count": 2,
   "id": "508c1dec",
   "metadata": {},
   "outputs": [
    {
     "name": "stdout",
     "output_type": "stream",
     "text": [
      "The Moscow Times: 2002-10-02 (Wednesday)\n",
      "The Guardian: 2013-10-11 (Friday)\n",
      "Daily News: 1977-08-18 (Thursday)\n"
     ]
    }
   ],
   "source": [
    "#Задание 1\n",
    "#Печатные газеты использовали свой формат дат для каждого выпуска. \n",
    "#Для каждой газеты из списка напишите формат указанной даты для перевода в объект datetime:\n",
    "#The Moscow Times - Wednesday, October 2, 2002\n",
    "#The Guardian - Friday, 11.10.13\n",
    "#Daily News - Thursday, 18 August 1977\n",
    "\n",
    "from datetime import datetime\n",
    "\n",
    "date_moscow_times = datetime.strptime(\"Wednesday, October 2, 2002\", \"%A, %B %d, %Y\")\n",
    "print(f\"The Moscow Times: {date_moscow_times.date()} ({date_moscow_times.strftime('%A')})\")\n",
    "\n",
    "date_the_guardian = datetime.strptime(\"Friday, 11.10.13\", \"%A, %d.%m.%y\")\n",
    "print(f\"The Guardian: {date_the_guardian.date()} ({date_the_guardian.strftime('%A')})\")\n",
    "\n",
    "date_daily_news = datetime.strptime(\"Thursday, 18 August 1977\", \"%A, %d %B %Y\")\n",
    "print(f\"Daily News: {date_daily_news.date()} ({date_daily_news.strftime('%A')})\")"
   ]
  },
  {
   "cell_type": "code",
   "execution_count": 5,
   "id": "c52d6a0f",
   "metadata": {},
   "outputs": [
    {
     "name": "stdout",
     "output_type": "stream",
     "text": [
      "['2022-01-01', '2022-01-02', '2022-01-03']\n",
      "[]\n",
      "[]\n"
     ]
    }
   ],
   "source": [
    "#Задание 2\n",
    "#Напишите функцию date_range, которая возвращает список дат за период от start_date до end_date. \n",
    "#Даты должны вводиться в формате YYYY-MM-DD. \n",
    "#В случае неверного формата или при start_date > end_date должен возвращаться пустой список.\n",
    "\n",
    "from datetime import datetime, timedelta\n",
    "\n",
    "def date_range(start_date, end_date):\n",
    "    try:\n",
    "        start = datetime.strptime(start_date, '%Y-%m-%d')\n",
    "        end = datetime.strptime(end_date, '%Y-%m-%d')\n",
    "        if start > end:\n",
    "            return []\n",
    "        date_list = []\n",
    "        current_date = start\n",
    "        while current_date <= end:\n",
    "            date_list.append(current_date.strftime('%Y-%m-%d'))\n",
    "            current_date += timedelta(days=1)\n",
    "        return date_list\n",
    "        \n",
    "    except ValueError:\n",
    "        return []\n",
    "\n",
    "#Проверка работы программы\n",
    "print(date_range('2022-01-01', '2022-01-03'))\n",
    "print(date_range('2022-01-03', '2022-01-01'))\n",
    "print(date_range('2022-02-30', '2022-02-31'))"
   ]
  },
  {
   "cell_type": "code",
   "execution_count": null,
   "id": "d1b20013",
   "metadata": {},
   "outputs": [],
   "source": []
  }
 ],
 "metadata": {
  "kernelspec": {
   "display_name": "Python 3 (ipykernel)",
   "language": "python",
   "name": "python3"
  },
  "language_info": {
   "codemirror_mode": {
    "name": "ipython",
    "version": 3
   },
   "file_extension": ".py",
   "mimetype": "text/x-python",
   "name": "python",
   "nbconvert_exporter": "python",
   "pygments_lexer": "ipython3",
   "version": "3.10.9"
  }
 },
 "nbformat": 4,
 "nbformat_minor": 5
}
