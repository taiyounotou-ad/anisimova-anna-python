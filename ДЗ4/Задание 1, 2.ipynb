{
 "cells": [
  {
   "cell_type": "code",
   "execution_count": 20,
   "id": "8ad3a71b",
   "metadata": {},
   "outputs": [
    {
     "name": "stdout",
     "output_type": "stream",
     "text": [
      "Номер А222ВС валиден. Регион: 96.\n",
      "Номер не валиден.\n"
     ]
    }
   ],
   "source": [
    "#Задание 1\n",
    "#Напишите функцию, которая принимает на вход строку и проверяет, \n",
    "#является ли она валидным транспортным номером (1 буква, 3 цифры, 2 буквы, 2–3 цифры). \n",
    "#Обратите внимание, что не все буквы кириллического алфавита используются в транспортных номерах.\n",
    "#Если номер валиден, то функция должна возвращать отдельно номер и регион.\n",
    "\n",
    "import re\n",
    "\n",
    "def car_number_validity_check(car_id):\n",
    "    allowed_letters = 'АВЕКМНОРСТУХ'\n",
    "    valid_number = fr'^([{allowed_letters}])(\\d{{3}})([{allowed_letters}]{{2}})(\\d{{2,3}})$'\n",
    "    match = re.match(valid_number, car_id)\n",
    "    if match:\n",
    "        number = match.group(1) + match.group(2) + match.group(3)\n",
    "        region = match.group(4)\n",
    "        return f\"Номер {number} валиден. Регион: {region}.\"\n",
    "    else:\n",
    "        return \"Номер не валиден.\"\n",
    "    \n",
    "#Примеры для проверки работы программы\n",
    "\n",
    "car_id='А222ВС96'\n",
    "print(car_number_validity_check(car_id))\n",
    "     \n",
    "car_id = 'АБ22ВВ193'\n",
    "print(car_number_validity_check(car_id))"
   ]
  },
  {
   "cell_type": "code",
   "execution_count": 21,
   "id": "8d94adeb",
   "metadata": {},
   "outputs": [
    {
     "name": "stdout",
     "output_type": "stream",
     "text": [
      "Напишите функцию, которая будет удалять все последовательные повторы слов из заданной строки при помощи регулярных выражений\n"
     ]
    }
   ],
   "source": [
    "#Задание 2\n",
    "#Напишите функцию, которая будет удалять все последовательные повторы слов из заданной строки при помощи регулярных выражений.\n",
    "\n",
    "import re\n",
    "\n",
    "def delete_repeated_words(some_string):\n",
    "    repeated_word = r'\\b(\\w+)\\b\\s+\\b\\1\\b'\n",
    "    unique_text = \"\"\n",
    "    while some_string != unique_text:\n",
    "        unique_text = some_string\n",
    "        some_string = re.sub(repeated_word, r'\\1', some_string)\n",
    "    return some_string\n",
    "\n",
    "#Пример для проверки работы программы\n",
    "\n",
    "some_string = 'Напишите функцию функцию, которая будет будет будет будет удалять все все все все последовательные повторы слов из из из из заданной строки строки при помощи регулярных выражений'\n",
    "print(delete_repeated_words(some_string))"
   ]
  },
  {
   "cell_type": "code",
   "execution_count": null,
   "id": "d5585e4f",
   "metadata": {},
   "outputs": [],
   "source": []
  }
 ],
 "metadata": {
  "kernelspec": {
   "display_name": "Python 3 (ipykernel)",
   "language": "python",
   "name": "python3"
  },
  "language_info": {
   "codemirror_mode": {
    "name": "ipython",
    "version": 3
   },
   "file_extension": ".py",
   "mimetype": "text/x-python",
   "name": "python",
   "nbconvert_exporter": "python",
   "pygments_lexer": "ipython3",
   "version": "3.10.9"
  }
 },
 "nbformat": 4,
 "nbformat_minor": 5
}
