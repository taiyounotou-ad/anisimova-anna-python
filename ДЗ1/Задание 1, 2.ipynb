{
 "cells": [
  {
   "cell_type": "code",
   "execution_count": 18,
   "id": "55ae9568",
   "metadata": {},
   "outputs": [
    {
     "name": "stdout",
     "output_type": "stream",
     "text": [
      "1840e0b9d4 'Продукты'\n",
      "4e4f90fcfb 'Электроника'\n"
     ]
    }
   ],
   "source": [
    "#Задание 1\n",
    "#Переведите содержимое файла purchase_log.txt в словарь purchases вида:{'1840e0b9d4': 'Продукты', ...}\n",
    "\n",
    "import json\n",
    "purchases = {}\n",
    "\n",
    "with open('purchase_log.txt', mode = 'r', encoding = 'utf-8') as file:\n",
    "    for line in file:\n",
    "        if line.strip() == '{\"user_id\": \"user_id\", \"category\": \"category\"}':\n",
    "            continue\n",
    "        data = json.loads(line.strip())\n",
    "        user_id = data['user_id']\n",
    "        category = data['category']\n",
    "        purchases[user_id] = category\n",
    "\n",
    "#Вывод первых двух элементов для проверки работы программы\n",
    "count = 0\n",
    "for user_id, category in purchases.items():\n",
    "    if count < 2:\n",
    "        print(f\"{user_id} '{category}'\")\n",
    "        count += 1\n",
    "    else:\n",
    "        break"
   ]
  },
  {
   "cell_type": "code",
   "execution_count": 19,
   "id": "5e50319a",
   "metadata": {},
   "outputs": [
    {
     "name": "stdout",
     "output_type": "stream",
     "text": [
      "user_id,source,category\n",
      "1840e0b9d4,other,Продукты\n",
      "4e4f90fcfb,context,Электроника\n"
     ]
    }
   ],
   "source": [
    "#Задание 2\n",
    "#Для каждого user_id в файле visit_log.csv определите третий столбец с категорией покупки. \n",
    "#Если покупка была, сам файл visit_log.csv изменять не надо.\n",
    "#Запишите в файл funnel.csv визиты из файла visit_log.csv, в которых были покупки с указанием категории.\n",
    "\n",
    "def create_funnel_csv(purchases):\n",
    "    with open('visit_log.csv', mode = 'r', encoding = 'utf-8') as visitlog_file, open('funnel.csv', mode = 'w', encoding = 'utf-8') as funnel_file:\n",
    "        header = visitlog_file.readline().strip()\n",
    "        funnel_file.write(header + ',category\\n')\n",
    "        for line in visitlog_file:\n",
    "            line = line.strip()\n",
    "            if not line:\n",
    "                continue                \n",
    "            parts = line.split(',')\n",
    "            if len(parts) < 2:\n",
    "                continue             \n",
    "            user_id = parts[0]\n",
    "            if user_id in purchases:\n",
    "                category = purchases[user_id]\n",
    "                funnel_file.write(f'{line},{category}\\n')\n",
    "\n",
    "create_funnel_csv(purchases)\n",
    "\n",
    "#Вывод первых трех строк для проверки работы программы\n",
    "with open('funnel.csv', mode = 'r', encoding='utf-8') as file:\n",
    "    for i, line in enumerate(file):\n",
    "        if i >= 3:\n",
    "            break\n",
    "        print(line.strip())"
   ]
  },
  {
   "cell_type": "code",
   "execution_count": null,
   "id": "2eec6b70",
   "metadata": {},
   "outputs": [],
   "source": []
  }
 ],
 "metadata": {
  "kernelspec": {
   "display_name": "Python 3 (ipykernel)",
   "language": "python",
   "name": "python3"
  },
  "language_info": {
   "codemirror_mode": {
    "name": "ipython",
    "version": 3
   },
   "file_extension": ".py",
   "mimetype": "text/x-python",
   "name": "python",
   "nbconvert_exporter": "python",
   "pygments_lexer": "ipython3",
   "version": "3.10.9"
  }
 },
 "nbformat": 4,
 "nbformat_minor": 5
}
